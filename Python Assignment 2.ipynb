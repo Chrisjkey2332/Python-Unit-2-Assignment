{
 "cells": [
  {
   "cell_type": "code",
   "execution_count": 3,
   "metadata": {},
   "outputs": [
    {
     "name": "stdout",
     "output_type": "stream",
     "text": [
      "1 5 8 9 "
     ]
    }
   ],
   "source": [
    "#enter list\n",
    "numlist = [1,11,14,5,8,9]\n",
    "\n",
    "#print numbers less than 10\n",
    "for num in numlist:\n",
    "    if num < 10:\n",
    "        print(num, end=\" \")"
   ]
  },
  {
   "cell_type": "code",
   "execution_count": 5,
   "metadata": {},
   "outputs": [
    {
     "name": "stdout",
     "output_type": "stream",
     "text": [
      "[1, 2, 3, 3, 4, 4, 5, 5, 6, 6, 7, 8, 10]\n"
     ]
    }
   ],
   "source": [
    "#Make lists\n",
    "list1 = [1,2,3,4,5,6]\n",
    "list2 = [3,4,5,6,7,8,10]\n",
    "\n",
    "#Combine lists together\n",
    "list3=list1+list2  \n",
    "\n",
    "#Sort combined list\n",
    "list3.sort()  \n",
    "\n",
    "#Print sorted list\n",
    "print(list3)  \n"
   ]
  }
 ],
 "metadata": {
  "kernelspec": {
   "display_name": "Python 3.9.13 64-bit (microsoft store)",
   "language": "python",
   "name": "python3"
  },
  "language_info": {
   "codemirror_mode": {
    "name": "ipython",
    "version": 3
   },
   "file_extension": ".py",
   "mimetype": "text/x-python",
   "name": "python",
   "nbconvert_exporter": "python",
   "pygments_lexer": "ipython3",
   "version": "3.9.13"
  },
  "orig_nbformat": 4,
  "vscode": {
   "interpreter": {
    "hash": "61483be7dd8d3a1f964d7e1e788036c352fe440903e5fe5a6930904c77fb0d92"
   }
  }
 },
 "nbformat": 4,
 "nbformat_minor": 2
}
